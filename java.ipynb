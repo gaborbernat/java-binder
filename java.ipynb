{
 "cells": [
  {
   "cell_type": "markdown",
   "metadata": {},
   "source": [
    "# Data in programming"
   ]
  },
  {
   "cell_type": "markdown",
   "metadata": {},
   "source": [
    "When it comes to storing information in computers all boil down at the end of the day to two places:\n",
    "\n",
    "- memory modules,\n",
    "- hard disks (either SSD or HDD).\n",
    "\n",
    "Now when we are talking about storing data within a program/application, the only place possible is the memory module. This is the **only** location where **all** variables content is stored. If you have a variable that holds some value (such as a number, a string, or a dictionary), that value will live and exists only inside the memory module. \n",
    "\n",
    "Memory modules (and hard disks too) are nothing more than a long sequence of bytes (1 byte = 8 bit - a bit can be either 1 or 0). Think of it as a long array, where every position is a single byte. \n",
    "\n",
    "Or in a more real-world analogy, it's a book library with a single very-very long shelf used for storage. Now the shelf has markers alongside it, starting from position zero, and increasing one by one up to the size of the memory of your computer:\n",
    "\n",
    "- 1 gigabyte = 1024 MegaBytes, \n",
    "- 1 Megabyte = 1024 KiloBytes,\n",
    "- 1 Kilo Bytes = 1024 Bytes.\n",
    "\n",
    "So if your computer has 1GB it has available ``1024 * 1024 * 1024 = 1 073 741 824`` cells. So this long memory shelf will contain roughly a bit over one billion markers for every gigabyte on your computer. These markers allow our librarian to retrieve books from a shelf quickly; e.g., if someone comes that hey give me a book from position 1233, they can just go immediately to that marker and return the value (book) stored there. \n",
    "\n",
    "Any data (variable) you use in a program will need to exists somewhere here on this shelf. The application itself does not holds/contain the data, it's the memory module that holds it. Now the memory module has a very strict librarian; the librarian does not allow anyone to go into the library themselves. All information/book must be retrieved by going to the librarian and asking for it. Similarly anything that goes into the library (new book/information) must go through the librarian. You show up with the book, he'll look at the library and put it somewhere; and then give you back the marker position where it was left.\n",
    "\n",
    "So for example when we write:"
   ]
  },
  {
   "cell_type": "code",
   "execution_count": 91,
   "metadata": {},
   "outputs": [],
   "source": [
    "int a = 3;"
   ]
  },
  {
   "cell_type": "markdown",
   "metadata": {},
   "source": [
    "translates to:\n",
    "\n",
    "1. librarian I would like to store the value 3 (right hand side of tha assignment), \n",
    "2. and by the way we also tell the librarian that the size of this book will be the size of an integer (this is 4 bytes) - so wherever they decide to put it inside the memory, it will need to have 4 spaces empty on the memory module (our virtual long shelf)\n",
    "3. once the librarian puts it there, he'll return us the position of the element in the shelf, e.g. ok I've put it on position 2 million."
   ]
  },
  {
   "cell_type": "markdown",
   "metadata": {},
   "source": [
    "Talking about memory marker positions gets quickly messy. Let's look at how the computer adds up 2 numbers:"
   ]
  },
  {
   "cell_type": "code",
   "execution_count": 92,
   "metadata": {},
   "outputs": [
    {
     "name": "stdout",
     "output_type": "stream",
     "text": [
      "4\n"
     ]
    }
   ],
   "source": [
    "int b = 1;\n",
    "int result = a + b;\n",
    "System.out.println(result);"
   ]
  },
  {
   "cell_type": "markdown",
   "metadata": {},
   "source": [
    "In the few lines above what happens:\n",
    "\n",
    "1. we first define a new variable b, whose value is 1 (similarly as above this translates, first asking our librarian to store the value in its long shelf where it has a size of integer) - the librarian returns us the marker where they put it, let this be position 2.5 million.\n",
    "2. Now we want to get the sum of a, and b; that is want to know what's the value of adding up the integer storred as position 2 million and 2.5 million. To get this information the machine first goes to the processor and instructs it, hey listen can you go ask from the librarian the values from markers 2 and 2.5 million respectively, and add it up?\n",
    "3. Furthermore after you've done this please take back the sum to the librarian and ask it to store it, also as a size integer. \n",
    "4. The librarian only gets the outcome of the right hand side, the number 4. Looks at it, sees also that it has a size of integer, looks at its shelf, sees there's a free position at marker 2.1 million with length 4 (needed for an int, so he puts it there).\n",
    "5. In the next line we say we want to print result, what we really are saying is that we want to print the value storred at marker 2.1 million. So the System.out.println, actually goes to the librarian, says look I've been asked to print out what's at result, that is at marker 2.1 million, give the the value of that, I'll send it to the processor that then sends it to the graphic processing unit, showing the value 4 on the screen.\n",
    "\n",
    "As the above shows remembering and dealing with markers in our shelf gets messy quickly. For this reason most programming languages, draw an abstraction on top of them, to ease handling of them. When you have some data that you want to store, they don't return you the position on the shelf but instead they give you a human readable name. In the above case we've used:\n",
    "- **a** for position 2 million,\n",
    "- **b** for position 2.5 million,\n",
    "- **result** for position 2.1 million. \n",
    "\n",
    "It's just something easier to wrap our heads around."
   ]
  },
  {
   "cell_type": "markdown",
   "metadata": {},
   "source": [
    "## Functions"
   ]
  },
  {
   "cell_type": "code",
   "execution_count": 93,
   "metadata": {},
   "outputs": [],
   "source": [
    "int                 // here we define what type of information we'll produce after calling this function\n",
    "sum(int a, int b)  // here we define the input of the function\n",
    "{\n",
    "    int result = a + b; // this is our processing logic\n",
    "    return result;      // here we define what is returned from the function\n",
    "}"
   ]
  },
  {
   "cell_type": "markdown",
   "metadata": {},
   "source": [
    "The above function is a function that calculates us the sum of two numbers. We no longer need to use the plus sing to add up two numbers, instead we can just call the sum:"
   ]
  },
  {
   "cell_type": "code",
   "execution_count": 94,
   "metadata": {},
   "outputs": [
    {
     "data": {
      "text/plain": [
       "3"
      ]
     },
     "execution_count": 94,
     "metadata": {},
     "output_type": "execute_result"
    }
   ],
   "source": [
    "sum(1, 2)"
   ]
  },
  {
   "cell_type": "code",
   "execution_count": 95,
   "metadata": {},
   "outputs": [
    {
     "data": {
      "text/plain": [
       "7"
      ]
     },
     "execution_count": 95,
     "metadata": {},
     "output_type": "execute_result"
    }
   ],
   "source": [
    "sum(3, 4)"
   ]
  },
  {
   "cell_type": "markdown",
   "metadata": {},
   "source": [
    "Functions are kinda like a template. You specify some input argument within the ``()`` and you get to return just one value (in Java at least) out of it. They allow us to stop writting the same code again and again. For example once I give you the above sum function, you can stop needing to think about how to sum up two numbers; you just now call the function and that will do it.\n",
    "\n",
    "Again the result calculated within the function is defined only within the sum function, the caller does not know about it. It will be still storred in memory under a marker; and what actually is returned from the function is just the position. The caller though now may decide to save that marker position under another name, alias:"
   ]
  },
  {
   "cell_type": "code",
   "execution_count": 96,
   "metadata": {},
   "outputs": [
    {
     "name": "stdout",
     "output_type": "stream",
     "text": [
      "10\n"
     ]
    }
   ],
   "source": [
    "int sum_1 = sum(1, 2);\n",
    "int sum_2 = sum(3, 4);\n",
    "\n",
    "int sum_all = sum(sum_1, sum_2);\n",
    "System.out.println(sum_all);"
   ]
  },
  {
   "cell_type": "markdown",
   "metadata": {},
   "source": [
    "Here both sum invocations initially save their values under the alias ``result``, however after the function returns the first invocation is known as ``sum_1``, while the second as ``sum_2``. This allows us to call our some again, and calculate the sum of everything.\n",
    "\n",
    "One more thing, our librarian is very worried about space. If any book in the shelf is no longer known by anyone, that is there are no more variables/aliases referring to it, they'll quickly destroy it. This allows it to not waste space. So would you only write:"
   ]
  },
  {
   "cell_type": "code",
   "execution_count": 97,
   "metadata": {},
   "outputs": [
    {
     "name": "stdout",
     "output_type": "stream",
     "text": [
      "that's all\n"
     ]
    }
   ],
   "source": [
    "sum(1, 2);\n",
    "sum(3, 4);\n",
    "System.out.println(\"that's all\");"
   ]
  },
  {
   "cell_type": "markdown",
   "metadata": {},
   "source": [
    "Here because you decided not to save the return value, the result alias even though is return from the function does not get saved under another alias, so now no one knows how to refer to it. As such the librarian destroys it. By the time the call ``sum(3,4)`` the value ``2 + 1 = 3`` storred in result is no more..."
   ]
  },
  {
   "cell_type": "markdown",
   "metadata": {},
   "source": [
    "Functions should not really on data outside of it's body, as such all data they are operating on should be passed in as arguments (with very small exceptions to this)."
   ]
  },
  {
   "cell_type": "markdown",
   "metadata": {},
   "source": [
    "# Classes\n",
    "\n",
    "Languages have some built-in types:\n",
    "- int\n",
    "- string\n",
    "- float\n",
    "- array\n",
    "\n",
    "But what happens when you need some new type, for example you have a person type? A person may have name, age. The first thing we need to do is to define what attributes our class has:"
   ]
  },
  {
   "cell_type": "code",
   "execution_count": 98,
   "metadata": {},
   "outputs": [],
   "source": [
    "class Person {\n",
    "   String name;\n",
    "   int age;\n",
    "};"
   ]
  },
  {
   "cell_type": "markdown",
   "metadata": {},
   "source": [
    "This defines that this type will take up in memory an integer space, plus the space needed for the name. With this our librarian may know just how many marker positions on the shelf we'll need."
   ]
  },
  {
   "cell_type": "markdown",
   "metadata": {},
   "source": [
    "To create a instance of this class we need some logic that defines given some actual values how do we construct our attributes. We do this within a function that has the exact same name as the class name, this function has no return value, but can do various operations to initialize/setup the attributes from it's arguments:"
   ]
  },
  {
   "cell_type": "code",
   "execution_count": 99,
   "metadata": {},
   "outputs": [],
   "source": [
    "class Person {\n",
    "  String name;\n",
    "  int age;\n",
    "  \n",
    "  Person(String name, int age) {\n",
    "     this.age = age;\n",
    "     this.name = \"Happy \" + name;\n",
    "  }\n",
    "}"
   ]
  },
  {
   "cell_type": "code",
   "execution_count": 100,
   "metadata": {},
   "outputs": [
    {
     "name": "stdout",
     "output_type": "stream",
     "text": [
      "name is Happy Lisa\n",
      "age is 23\n"
     ]
    }
   ],
   "source": [
    "Person lisa = new Person(\"Lisa\", 23);\n",
    "\n",
    "System.out.println(\"name is \"+ lisa.name);\n",
    "System.out.println(\"age is \"+ lisa.age);"
   ]
  },
  {
   "cell_type": "markdown",
   "metadata": {},
   "source": [
    "This demonstrates that while the constructor might just take the passed in values as it is and set it as attributes, it might contain some type of logic to setup the person. In this case age is taken as it is, but name will be always prefixed with the word ``Happy``."
   ]
  },
  {
   "cell_type": "markdown",
   "metadata": {},
   "source": [
    "There's one important question to be answered. Within a class method how do we access data?\n",
    "\n",
    "- we always can access arguments of the method, by using the passed in variable names;\n",
    "- to access the classes attributes we first need to have some kind of reference, to the current instance of the class; this is a marker of look here is the data of this class storred. In java this is provided by the ``this`` variable name. This is available in all methods of the class, and is automatically set to the current instance of that class."
   ]
  },
  {
   "cell_type": "code",
   "execution_count": 101,
   "metadata": {},
   "outputs": [],
   "source": [
    "class Person {\n",
    "  String name;\n",
    "  int age;\n",
    "  \n",
    "  Person(String name, int age) {\n",
    "     this.age = age;\n",
    "     this.name = \"Happy \" + name;\n",
    "  }\n",
    "  \n",
    "  void magic(Person passedIn) {\n",
    "      System.out.println(this == passedIn); \n",
    "      System.out.println(this.name + \" \" + passedIn.name); \n",
    "\n",
    "  }\n",
    "}"
   ]
  },
  {
   "cell_type": "code",
   "execution_count": 102,
   "metadata": {},
   "outputs": [
    {
     "name": "stdout",
     "output_type": "stream",
     "text": [
      "true\n",
      "Happy Lisa Happy Lisa\n",
      "false\n",
      "Happy Lisa Happy Bernat\n"
     ]
    }
   ],
   "source": [
    "Person lisa = new Person(\"Lisa\", 23);\n",
    "Person bernat = new Person(\"Bernat\", 23);\n",
    "\n",
    "lisa.magic(lisa);\n",
    "lisa.magic(bernat);"
   ]
  },
  {
   "cell_type": "markdown",
   "metadata": {},
   "source": [
    "As you can see in the above example within the magic method this will be the same as the lisa, but not the same as bernat; as bernat is another instance of the class.\n"
   ]
  },
  {
   "cell_type": "markdown",
   "metadata": {},
   "source": [
    "One more thing, if within a method you refer to a variable name, and that hasn't been defined otherwise the language will automatically try to see if that's also available under ``this`` and if is will use that:"
   ]
  },
  {
   "cell_type": "code",
   "execution_count": 103,
   "metadata": {},
   "outputs": [],
   "source": [
    "class Person {\n",
    "  String name;\n",
    "  int age;\n",
    "  \n",
    "  Person(String name, int age) {\n",
    "     this.age = age;\n",
    "     this.name = \"Happy \" + name;\n",
    "  }\n",
    "  \n",
    "  void printName() {\n",
    "      // if a variable name is not available within the method, will fallback to the classes attributes \n",
    "      System.out.println(name == this.name); \n",
    "      System.out.println(name); \n",
    "      System.out.println(this.name); \n",
    "  }\n",
    "}"
   ]
  },
  {
   "cell_type": "code",
   "execution_count": 104,
   "metadata": {},
   "outputs": [
    {
     "name": "stdout",
     "output_type": "stream",
     "text": [
      "true\n",
      "Happy Lisa\n",
      "Happy Lisa\n"
     ]
    }
   ],
   "source": [
    "Person lisa = new Person(\"Lisa\", 23);\n",
    "lisa.printName();"
   ]
  },
  {
   "cell_type": "markdown",
   "metadata": {},
   "source": [
    "This should explain why within the constructor we initialize by ``this.age == age``. It's because age is also an input argument, so when you type ``age`` will refer to the input; to set that as value for the classes ``age`` attribute we need to refer to it via the ``this`` variable name. ``this.age`` means the ``age`` attribute on the ``this`` object (note object = instance of a class). You can always use the ``this`` to make it explicit that the name is an attribute on the object the method is tied too, not a variable."
   ]
  },
  {
   "cell_type": "markdown",
   "metadata": {},
   "source": [
    "# Attribute accesss - getter/setter\n",
    "\n",
    "In the above example one could access directly the class attributes. They could even change it: "
   ]
  },
  {
   "cell_type": "code",
   "execution_count": 112,
   "metadata": {},
   "outputs": [
    {
     "ename": "CompilationException",
     "evalue": "",
     "output_type": "error",
     "traceback": [
      "\u001b[1m\u001b[30m|   \u001b[1m\u001b[30mSystem.out.println(\"name is \"+ \u001b[0m\u001b[1m\u001b[30m\u001b[41mlisa.name\u001b[0m\u001b[1m\u001b[30m);\u001b[0m",
      "\u001b[1m\u001b[31mname has private access in Person\u001b[0m",
      ""
     ]
    }
   ],
   "source": [
    "Person lisa = new Person(\"Lisa\", 23);\n",
    "System.out.println(\"name is \"+ lisa.name);\n",
    "\n",
    "lisa.name = \"John\";\n",
    "System.out.println(\"name is \"+ lisa.name);"
   ]
  },
  {
   "cell_type": "markdown",
   "metadata": {},
   "source": [
    "This is not necessarily good though, as the name should not be seen; as ``lisa`` is now called John. Not a good thing. A better way of doing this baning such access by making the attributes private:"
   ]
  },
  {
   "cell_type": "code",
   "execution_count": 106,
   "metadata": {},
   "outputs": [],
   "source": [
    "class Person {\n",
    "  private String name;\n",
    "  private int age;\n",
    "  \n",
    "  Person(String name, int age) {\n",
    "     this.age = age;\n",
    "     this.name = \"Happy \" + name;\n",
    "  }\n",
    "}"
   ]
  },
  {
   "cell_type": "code",
   "execution_count": 107,
   "metadata": {},
   "outputs": [
    {
     "ename": "CompilationException",
     "evalue": "",
     "output_type": "error",
     "traceback": [
      "\u001b[1m\u001b[30m|   \u001b[1m\u001b[30mSystem.out.println(\"name is \"+ \u001b[0m\u001b[1m\u001b[30m\u001b[41mlisa.name\u001b[0m\u001b[1m\u001b[30m);\u001b[0m",
      "\u001b[1m\u001b[31mname has private access in Person\u001b[0m",
      ""
     ]
    }
   ],
   "source": [
    "Person lisa = new Person(\"Lisa\", 23);\n",
    "\n",
    "System.out.println(\"name is \"+ lisa.name);"
   ]
  },
  {
   "cell_type": "markdown",
   "metadata": {},
   "source": [
    "Once a name is private you no longer can look at it, so in such casses in Java one implements a getter to still give read access to the end user:"
   ]
  },
  {
   "cell_type": "code",
   "execution_count": 108,
   "metadata": {},
   "outputs": [],
   "source": [
    "class Person {\n",
    "  private String name;\n",
    "  private int age;\n",
    "  \n",
    "  Person(String name, int age) {\n",
    "     this.age = age;\n",
    "     this.name = \"Happy \" + name;\n",
    "  }\n",
    "  \n",
    "  String getName() {\n",
    "    return this.name;\n",
    "  }\n",
    "}"
   ]
  },
  {
   "cell_type": "code",
   "execution_count": 109,
   "metadata": {},
   "outputs": [
    {
     "name": "stdout",
     "output_type": "stream",
     "text": [
      "name is Happy Lisa\n"
     ]
    }
   ],
   "source": [
    "Person lisa = new Person(\"Lisa\", 23);\n",
    "\n",
    "System.out.println(\"name is \"+ lisa.getName());"
   ]
  },
  {
   "cell_type": "markdown",
   "metadata": {},
   "source": [
    "The way to change values now is to provide a setter too:"
   ]
  },
  {
   "cell_type": "code",
   "execution_count": 110,
   "metadata": {},
   "outputs": [],
   "source": [
    "class Person {\n",
    "  private String name;\n",
    "  private int age;\n",
    "  \n",
    "  Person(String name, int age) {\n",
    "     this.age = age;\n",
    "     this.name = \"Happy \" + name;\n",
    "  }\n",
    "  \n",
    "  String getName() {\n",
    "    return this.name;\n",
    "  }\n",
    "\n",
    "  void setName(String newName) {\n",
    "    this.name = newName;\n",
    "  }\n",
    "}"
   ]
  },
  {
   "cell_type": "code",
   "execution_count": 111,
   "metadata": {},
   "outputs": [
    {
     "name": "stdout",
     "output_type": "stream",
     "text": [
      "name is Happy Lisa\n",
      "name is Bernat\n"
     ]
    }
   ],
   "source": [
    "Person person = new Person(\"Lisa\", 23);\n",
    "\n",
    "System.out.println(\"name is \"+ person.getName());\n",
    "\n",
    "person.setName(\"Bernat\");\n",
    "\n",
    "System.out.println(\"name is \"+ person.getName());"
   ]
  }
 ],
 "metadata": {
  "kernelspec": {
   "display_name": "Java",
   "language": "java",
   "name": "java"
  },
  "language_info": {
   "codemirror_mode": "java",
   "file_extension": ".jshell",
   "mimetype": "text/x-java-source",
   "name": "Java",
   "pygments_lexer": "java",
   "version": "11.0.3+7"
  }
 },
 "nbformat": 4,
 "nbformat_minor": 2
}
